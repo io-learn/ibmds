{
 "cells": [
  {
   "cell_type": "markdown",
   "id": "66287d21-4af8-43df-864a-17d4cb0cedf7",
   "metadata": {},
   "source": [
    "# Data Science Tools and Ecosystem"
   ]
  },
  {
   "cell_type": "markdown",
   "id": "88d7f089-bfb3-40bf-8449-1c96787e468f",
   "metadata": {},
   "source": [
    "## Author\n",
    "John Doe"
   ]
  },
  {
   "cell_type": "markdown",
   "id": "327bdaf5-00b8-4dc7-842c-da744b76dee9",
   "metadata": {},
   "source": [
    "In this notebook, Data Science Tools and Ecosystem are summarized."
   ]
  },
  {
   "cell_type": "markdown",
   "id": "d48e6d1f-cbc2-4fde-b987-03144fe1bbdd",
   "metadata": {},
   "source": [
    "**Objectives**\n",
    "- List popular languages for data science\n",
    "- List commonly used libraries used by data scientists\n",
    "- Tabulate development environment open source tools used in data science\n",
    "- Evaluate arithmetic expressions in Python"
   ]
  },
  {
   "cell_type": "markdown",
   "id": "7f0007ec-7200-4d79-96aa-1dc144ae8c25",
   "metadata": {},
   "source": [
    "Some of the popular languages that Data Scientists use are:\n",
    "1. Python\n",
    "1. R\n",
    "1. Julia"
   ]
  },
  {
   "cell_type": "markdown",
   "id": "221b80fc-a47c-44d8-a182-7724d1ae641a",
   "metadata": {},
   "source": [
    "Some of the commonly used libraries used by Data Scientists include:\n",
    "1. NumPy\n",
    "1. Pandas\n",
    "1. Scikit-learn"
   ]
  },
  {
   "cell_type": "markdown",
   "id": "91ed55fe-c411-4451-a73a-1931743e2ee6",
   "metadata": {},
   "source": [
    "|Data Science Tools|\n",
    "------\n",
    "|JupyterLab|\n",
    "|RStudio|\n",
    "|Spyder|"
   ]
  },
  {
   "cell_type": "markdown",
   "id": "088f7485-3ed3-444c-93b8-40fbea3143e2",
   "metadata": {},
   "source": [
    "### Below are a few examples of evaluating arithmetic expressions in Python."
   ]
  },
  {
   "cell_type": "code",
   "execution_count": 4,
   "id": "2387d22c-34d8-4a8d-824c-fdcc137e4768",
   "metadata": {},
   "outputs": [
    {
     "data": {
      "text/plain": [
       "17"
      ]
     },
     "execution_count": 4,
     "metadata": {},
     "output_type": "execute_result"
    }
   ],
   "source": [
    "# This a simple arithmetic expression to mutiply then add integers\n",
    "(3*4)+5 "
   ]
  },
  {
   "cell_type": "code",
   "execution_count": 7,
   "id": "4f67e5e4-08eb-4303-9b1a-30e720c88f7a",
   "metadata": {},
   "outputs": [
    {
     "name": "stdout",
     "output_type": "stream",
     "text": [
      "200 minutes is 3.3333333333333335 hours.\n"
     ]
    }
   ],
   "source": [
    "# This will convert 200 minutes to hours by diving by 60\n",
    "duration_mins = 200\n",
    "print(str(duration_mins) , \"minutes is\" , str(duration_mins/60) , \"hours.\")"
   ]
  },
  {
   "cell_type": "code",
   "execution_count": null,
   "id": "31635595-a688-4bb5-a4ec-202a25471a0a",
   "metadata": {},
   "outputs": [],
   "source": []
  }
 ],
 "metadata": {
  "kernelspec": {
   "display_name": "Python 3 (ipykernel)",
   "language": "python",
   "name": "python3"
  },
  "language_info": {
   "codemirror_mode": {
    "name": "ipython",
    "version": 3
   },
   "file_extension": ".py",
   "mimetype": "text/x-python",
   "name": "python",
   "nbconvert_exporter": "python",
   "pygments_lexer": "ipython3",
   "version": "3.10.11"
  }
 },
 "nbformat": 4,
 "nbformat_minor": 5
}
